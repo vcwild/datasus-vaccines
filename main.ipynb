{
 "metadata": {
  "language_info": {
   "codemirror_mode": {
    "name": "ipython",
    "version": 3
   },
   "file_extension": ".py",
   "mimetype": "text/x-python",
   "name": "python",
   "nbconvert_exporter": "python",
   "pygments_lexer": "ipython3",
   "version": "3.7.7-final"
  },
  "orig_nbformat": 2,
  "kernelspec": {
   "name": "python3",
   "display_name": "Python 3"
  }
 },
 "nbformat": 4,
 "nbformat_minor": 2,
 "cells": [
  {
   "source": [
    "# DataSUS Vaccines Pipeline Cleansing"
   ],
   "cell_type": "markdown",
   "metadata": {}
  },
  {
   "cell_type": "code",
   "execution_count": 1,
   "metadata": {},
   "outputs": [],
   "source": [
    "import pandas as pd\n",
    "from os import listdir"
   ]
  },
  {
   "cell_type": "code",
   "execution_count": 2,
   "metadata": {},
   "outputs": [
    {
     "output_type": "execute_result",
     "data": {
      "text/plain": [
       "['cv_ano_imuno.csv',\n",
       " 'cv_uf_2015.csv',\n",
       " 'cv_uf_2016.csv',\n",
       " 'cv_uf_2017.csv',\n",
       " 'cv_uf_2018.csv',\n",
       " 'cv_uf_2019.csv']"
      ]
     },
     "metadata": {},
     "execution_count": 2
    }
   ],
   "source": [
    "datasets = sorted([x for x in listdir('./datasets')])\n",
    "datasets"
   ]
  },
  {
   "cell_type": "code",
   "execution_count": 3,
   "metadata": {},
   "outputs": [],
   "source": [
    "def filter_df(data, iterator, year=None):\n",
    "    df = data[iterator]\n",
    "    df.columns = df.iloc[0]\n",
    "    df = df.iloc[1:]\n",
    "    df = df.reset_index()\n",
    "    df = df.rename(columns={\"index\":\"Estado\"})\n",
    "    if year is not None:\n",
    "        df['Ano'] = year\n",
    "\n",
    "    return df"
   ]
  },
  {
   "cell_type": "code",
   "execution_count": 4,
   "metadata": {},
   "outputs": [],
   "source": [
    "filepath = './datasets/'\n",
    "\n",
    "df = [pd.read_csv(filepath + dataset, encoding='utf8', sep=';', decimal=',') for dataset in datasets]\n",
    "\n",
    "df_t = [x.transpose() for x in df]\n",
    "\n",
    "imuno = filter_df(df_t, 0)\n",
    "imuno = imuno.rename(columns={\"Estado\": \"Ano\"})\n",
    "df_2015 = filter_df(df_t, 1, 2015)\n",
    "df_2016 = filter_df(df_t, 2, 2016)\n",
    "df_2017 = filter_df(df_t, 3, 2017)\n",
    "df_2018 = filter_df(df_t, 4, 2018)\n",
    "df_2019 = filter_df(df_t, 5, 2019)\n"
   ]
  },
  {
   "cell_type": "code",
   "execution_count": 5,
   "metadata": {},
   "outputs": [
    {
     "output_type": "execute_result",
     "data": {
      "text/plain": [
       "Imuno Estado     BCG Hepatite B  em crianças até 30 dias Rotavírus Humano  \\\n",
       "0         RO  110.77                              104.78           103.95   \n",
       "1         AC   105.9                               69.63             82.5   \n",
       "\n",
       "Imuno Meningococo C Hepatite B   Penta Pneumocócica Poliomielite  \\\n",
       "0            104.02     106.35  104.54       104.68       105.44   \n",
       "1             88.64      82.62   81.24        72.48        82.74   \n",
       "\n",
       "Imuno Febre Amarela  ... Tríplice Viral  D2 Tetra Viral(SRC+VZ)     DTP  \\\n",
       "0            106.06  ...              94.61               94.63  104.63   \n",
       "1             66.67  ...              51.69                49.3    81.3   \n",
       "\n",
       "Imuno Tríplice Bacteriana(DTP)(1º ref)  \\\n",
       "0                                95.82   \n",
       "1                                 62.7   \n",
       "\n",
       "Imuno Dupla adulto e tríplice acelular gestante dTpa gestante  \\\n",
       "0                                         73.92         64.65   \n",
       "1                                         17.13         12.08   \n",
       "\n",
       "Imuno Tetravalente (DTP/Hib) (TETRA) Ignorado   Total   Ano  \n",
       "0                             103.36   229.39  111.27  2015  \n",
       "1                              83.71   158.09   75.54  2015  \n",
       "\n",
       "[2 rows x 25 columns]"
      ],
      "text/html": "<div>\n<style scoped>\n    .dataframe tbody tr th:only-of-type {\n        vertical-align: middle;\n    }\n\n    .dataframe tbody tr th {\n        vertical-align: top;\n    }\n\n    .dataframe thead th {\n        text-align: right;\n    }\n</style>\n<table border=\"1\" class=\"dataframe\">\n  <thead>\n    <tr style=\"text-align: right;\">\n      <th>Imuno</th>\n      <th>Estado</th>\n      <th>BCG</th>\n      <th>Hepatite B  em crianças até 30 dias</th>\n      <th>Rotavírus Humano</th>\n      <th>Meningococo C</th>\n      <th>Hepatite B</th>\n      <th>Penta</th>\n      <th>Pneumocócica</th>\n      <th>Poliomielite</th>\n      <th>Febre Amarela</th>\n      <th>...</th>\n      <th>Tríplice Viral  D2</th>\n      <th>Tetra Viral(SRC+VZ)</th>\n      <th>DTP</th>\n      <th>Tríplice Bacteriana(DTP)(1º ref)</th>\n      <th>Dupla adulto e tríplice acelular gestante</th>\n      <th>dTpa gestante</th>\n      <th>Tetravalente (DTP/Hib) (TETRA)</th>\n      <th>Ignorado</th>\n      <th>Total</th>\n      <th>Ano</th>\n    </tr>\n  </thead>\n  <tbody>\n    <tr>\n      <th>0</th>\n      <td>RO</td>\n      <td>110.77</td>\n      <td>104.78</td>\n      <td>103.95</td>\n      <td>104.02</td>\n      <td>106.35</td>\n      <td>104.54</td>\n      <td>104.68</td>\n      <td>105.44</td>\n      <td>106.06</td>\n      <td>...</td>\n      <td>94.61</td>\n      <td>94.63</td>\n      <td>104.63</td>\n      <td>95.82</td>\n      <td>73.92</td>\n      <td>64.65</td>\n      <td>103.36</td>\n      <td>229.39</td>\n      <td>111.27</td>\n      <td>2015</td>\n    </tr>\n    <tr>\n      <th>1</th>\n      <td>AC</td>\n      <td>105.9</td>\n      <td>69.63</td>\n      <td>82.5</td>\n      <td>88.64</td>\n      <td>82.62</td>\n      <td>81.24</td>\n      <td>72.48</td>\n      <td>82.74</td>\n      <td>66.67</td>\n      <td>...</td>\n      <td>51.69</td>\n      <td>49.3</td>\n      <td>81.3</td>\n      <td>62.7</td>\n      <td>17.13</td>\n      <td>12.08</td>\n      <td>83.71</td>\n      <td>158.09</td>\n      <td>75.54</td>\n      <td>2015</td>\n    </tr>\n  </tbody>\n</table>\n<p>2 rows × 25 columns</p>\n</div>"
     },
     "metadata": {},
     "execution_count": 5
    }
   ],
   "source": [
    "df_2015.head(2)"
   ]
  },
  {
   "cell_type": "code",
   "execution_count": 6,
   "metadata": {},
   "outputs": [
    {
     "output_type": "execute_result",
     "data": {
      "text/plain": [
       "Index(['Estado', 'BCG', 'Hepatite B  em crianças até 30 dias',\n",
       "       'Rotavírus Humano', 'Meningococo C', 'Hepatite B', 'Penta',\n",
       "       'Pneumocócica', 'Poliomielite', 'Febre Amarela', 'Hepatite A',\n",
       "       'Pneumocócica(1º ref)', 'Meningococo C (1º ref)',\n",
       "       'Poliomielite(1º ref)', 'Tríplice Viral  D1', 'Tríplice Viral  D2',\n",
       "       'Tetra Viral(SRC+VZ)', 'DTP', 'Tríplice Bacteriana(DTP)(1º ref)',\n",
       "       'Dupla adulto e tríplice acelular gestante', 'dTpa gestante',\n",
       "       'Tetravalente (DTP/Hib) (TETRA)', 'Ignorado', 'Total', 'Ano',\n",
       "       'DTP REF (4 e 6 anos)', 'Poliomielite 4 anos'],\n",
       "      dtype='object')"
      ]
     },
     "metadata": {},
     "execution_count": 6
    }
   ],
   "source": [
    "bases = [df_2015, df_2016, df_2017, df_2018, df_2019]\n",
    "result = pd.concat(bases)\n",
    "result.columns"
   ]
  },
  {
   "cell_type": "code",
   "execution_count": 7,
   "metadata": {},
   "outputs": [
    {
     "output_type": "execute_result",
     "data": {
      "text/plain": [
       "                BCG  Hepatite B  em crianças até 30 dias  Rotavírus Humano  \\\n",
       "Estado Ano                                                                   \n",
       " Total 2015  105.08                                90.93             95.35   \n",
       "       2016   95.55                                81.75             88.98   \n",
       "       2017   97.98                                85.88             85.12   \n",
       "       2018   99.72                                88.40             91.33   \n",
       "       2019   86.67                                78.57             85.40   \n",
       "...             ...                                  ...               ...   \n",
       "TO     2015  107.48                                94.35             97.73   \n",
       "       2016   99.23                                77.44             91.00   \n",
       "       2017  104.75                                91.32             89.09   \n",
       "       2018  104.06                               100.67             93.40   \n",
       "       2019  112.41                               111.88             88.73   \n",
       "\n",
       "             Meningococo C  Hepatite B  Penta  Pneumocócica  Poliomielite  \\\n",
       "Estado Ano                                                                  \n",
       " Total 2015          98.19       97.74  96.30         94.23         98.29   \n",
       "       2016          91.68      105.19  89.27         95.00         84.43   \n",
       "       2017          87.44       84.40  84.24         92.15         84.74   \n",
       "       2018          88.49       88.53  88.49         95.25         89.54   \n",
       "       2019          87.41       70.77  70.76         89.07         84.19   \n",
       "...                    ...         ...    ...           ...           ...   \n",
       "TO     2015          98.73      100.00  98.70         93.92         97.22   \n",
       "       2016          92.43      106.61  88.14         97.31         84.77   \n",
       "       2017          90.01       85.77  85.76         93.17         86.05   \n",
       "       2018          79.72       90.04  90.04        100.71         91.68   \n",
       "       2019          93.52       76.38  76.38         94.02         88.17   \n",
       "\n",
       "             Febre Amarela  Hepatite A  ...  Tetra Viral(SRC+VZ)    DTP  \\\n",
       "Estado Ano                              ...                               \n",
       " Total 2015          46.31       97.07  ...                77.37  96.90   \n",
       "       2016          44.59       71.58  ...                79.04  89.53   \n",
       "       2017          47.37       78.94  ...                35.44   0.00   \n",
       "       2018          59.50       82.69  ...                33.26   0.00   \n",
       "       2019          62.41       85.02  ...                34.24   0.00   \n",
       "...                    ...         ...  ...                  ...    ...   \n",
       "TO     2015          83.28       94.52  ...                52.17  98.76   \n",
       "       2016          77.26       75.63  ...                88.32  88.14   \n",
       "       2017          73.28       81.50  ...                60.91   0.00   \n",
       "       2018          81.08       84.08  ...                65.92   0.00   \n",
       "       2019          76.47       87.09  ...                81.35   0.00   \n",
       "\n",
       "             Tríplice Bacteriana(DTP)(1º ref)  \\\n",
       "Estado Ano                                      \n",
       " Total 2015                             85.78   \n",
       "       2016                             64.28   \n",
       "       2017                             72.40   \n",
       "       2018                             73.27   \n",
       "       2019                             57.08   \n",
       "...                                       ...   \n",
       "TO     2015                             83.28   \n",
       "       2016                             69.89   \n",
       "       2017                             75.43   \n",
       "       2018                             74.54   \n",
       "       2019                             55.40   \n",
       "\n",
       "             Dupla adulto e tríplice acelular gestante  dTpa gestante  \\\n",
       "Estado Ano                                                              \n",
       " Total 2015                                      45.57          44.97   \n",
       "       2016                                      31.53          33.81   \n",
       "       2017                                      34.73          42.40   \n",
       "       2018                                      44.99          60.23   \n",
       "       2019                                      45.02          63.23   \n",
       "...                                                ...            ...   \n",
       "TO     2015                                      15.24          16.55   \n",
       "       2016                                      11.52          19.23   \n",
       "       2017                                      34.82          53.33   \n",
       "       2018                                      45.80          70.06   \n",
       "       2019                                      51.01          75.97   \n",
       "\n",
       "             Tetravalente (DTP/Hib) (TETRA)  Ignorado  Total  \\\n",
       "Estado Ano                                                     \n",
       " Total 2015                           95.49    196.58  95.07   \n",
       "       2016                            5.21     16.44  50.44   \n",
       "       2017                            0.00      0.00  72.93   \n",
       "       2018                            0.00      0.00  77.13   \n",
       "       2019                            0.00      0.00  73.44   \n",
       "...                                     ...       ...    ...   \n",
       "TO     2015                           96.74    231.40  92.37   \n",
       "       2016                            5.49     31.04  60.94   \n",
       "       2017                            0.00      0.00  77.95   \n",
       "       2018                            0.00      0.00  81.12   \n",
       "       2019                            0.00      0.00  82.12   \n",
       "\n",
       "             DTP REF (4 e 6 anos)  Poliomielite 4 anos  \n",
       "Estado Ano                                              \n",
       " Total 2015                  0.00                 0.00  \n",
       "       2016                  2.73                 0.00  \n",
       "       2017                 66.08                62.26  \n",
       "       2018                 68.52                63.62  \n",
       "       2019                 53.74                68.45  \n",
       "...                           ...                  ...  \n",
       "TO     2015                  0.00                 0.00  \n",
       "       2016                  2.28                 0.00  \n",
       "       2017                 72.35                66.53  \n",
       "       2018                 65.28                62.70  \n",
       "       2019                 53.13                65.91  \n",
       "\n",
       "[140 rows x 25 columns]"
      ],
      "text/html": "<div>\n<style scoped>\n    .dataframe tbody tr th:only-of-type {\n        vertical-align: middle;\n    }\n\n    .dataframe tbody tr th {\n        vertical-align: top;\n    }\n\n    .dataframe thead th {\n        text-align: right;\n    }\n</style>\n<table border=\"1\" class=\"dataframe\">\n  <thead>\n    <tr style=\"text-align: right;\">\n      <th></th>\n      <th></th>\n      <th>BCG</th>\n      <th>Hepatite B  em crianças até 30 dias</th>\n      <th>Rotavírus Humano</th>\n      <th>Meningococo C</th>\n      <th>Hepatite B</th>\n      <th>Penta</th>\n      <th>Pneumocócica</th>\n      <th>Poliomielite</th>\n      <th>Febre Amarela</th>\n      <th>Hepatite A</th>\n      <th>...</th>\n      <th>Tetra Viral(SRC+VZ)</th>\n      <th>DTP</th>\n      <th>Tríplice Bacteriana(DTP)(1º ref)</th>\n      <th>Dupla adulto e tríplice acelular gestante</th>\n      <th>dTpa gestante</th>\n      <th>Tetravalente (DTP/Hib) (TETRA)</th>\n      <th>Ignorado</th>\n      <th>Total</th>\n      <th>DTP REF (4 e 6 anos)</th>\n      <th>Poliomielite 4 anos</th>\n    </tr>\n    <tr>\n      <th>Estado</th>\n      <th>Ano</th>\n      <th></th>\n      <th></th>\n      <th></th>\n      <th></th>\n      <th></th>\n      <th></th>\n      <th></th>\n      <th></th>\n      <th></th>\n      <th></th>\n      <th></th>\n      <th></th>\n      <th></th>\n      <th></th>\n      <th></th>\n      <th></th>\n      <th></th>\n      <th></th>\n      <th></th>\n      <th></th>\n      <th></th>\n    </tr>\n  </thead>\n  <tbody>\n    <tr>\n      <th rowspan=\"5\" valign=\"top\">Total</th>\n      <th>2015</th>\n      <td>105.08</td>\n      <td>90.93</td>\n      <td>95.35</td>\n      <td>98.19</td>\n      <td>97.74</td>\n      <td>96.30</td>\n      <td>94.23</td>\n      <td>98.29</td>\n      <td>46.31</td>\n      <td>97.07</td>\n      <td>...</td>\n      <td>77.37</td>\n      <td>96.90</td>\n      <td>85.78</td>\n      <td>45.57</td>\n      <td>44.97</td>\n      <td>95.49</td>\n      <td>196.58</td>\n      <td>95.07</td>\n      <td>0.00</td>\n      <td>0.00</td>\n    </tr>\n    <tr>\n      <th>2016</th>\n      <td>95.55</td>\n      <td>81.75</td>\n      <td>88.98</td>\n      <td>91.68</td>\n      <td>105.19</td>\n      <td>89.27</td>\n      <td>95.00</td>\n      <td>84.43</td>\n      <td>44.59</td>\n      <td>71.58</td>\n      <td>...</td>\n      <td>79.04</td>\n      <td>89.53</td>\n      <td>64.28</td>\n      <td>31.53</td>\n      <td>33.81</td>\n      <td>5.21</td>\n      <td>16.44</td>\n      <td>50.44</td>\n      <td>2.73</td>\n      <td>0.00</td>\n    </tr>\n    <tr>\n      <th>2017</th>\n      <td>97.98</td>\n      <td>85.88</td>\n      <td>85.12</td>\n      <td>87.44</td>\n      <td>84.40</td>\n      <td>84.24</td>\n      <td>92.15</td>\n      <td>84.74</td>\n      <td>47.37</td>\n      <td>78.94</td>\n      <td>...</td>\n      <td>35.44</td>\n      <td>0.00</td>\n      <td>72.40</td>\n      <td>34.73</td>\n      <td>42.40</td>\n      <td>0.00</td>\n      <td>0.00</td>\n      <td>72.93</td>\n      <td>66.08</td>\n      <td>62.26</td>\n    </tr>\n    <tr>\n      <th>2018</th>\n      <td>99.72</td>\n      <td>88.40</td>\n      <td>91.33</td>\n      <td>88.49</td>\n      <td>88.53</td>\n      <td>88.49</td>\n      <td>95.25</td>\n      <td>89.54</td>\n      <td>59.50</td>\n      <td>82.69</td>\n      <td>...</td>\n      <td>33.26</td>\n      <td>0.00</td>\n      <td>73.27</td>\n      <td>44.99</td>\n      <td>60.23</td>\n      <td>0.00</td>\n      <td>0.00</td>\n      <td>77.13</td>\n      <td>68.52</td>\n      <td>63.62</td>\n    </tr>\n    <tr>\n      <th>2019</th>\n      <td>86.67</td>\n      <td>78.57</td>\n      <td>85.40</td>\n      <td>87.41</td>\n      <td>70.77</td>\n      <td>70.76</td>\n      <td>89.07</td>\n      <td>84.19</td>\n      <td>62.41</td>\n      <td>85.02</td>\n      <td>...</td>\n      <td>34.24</td>\n      <td>0.00</td>\n      <td>57.08</td>\n      <td>45.02</td>\n      <td>63.23</td>\n      <td>0.00</td>\n      <td>0.00</td>\n      <td>73.44</td>\n      <td>53.74</td>\n      <td>68.45</td>\n    </tr>\n    <tr>\n      <th>...</th>\n      <th>...</th>\n      <td>...</td>\n      <td>...</td>\n      <td>...</td>\n      <td>...</td>\n      <td>...</td>\n      <td>...</td>\n      <td>...</td>\n      <td>...</td>\n      <td>...</td>\n      <td>...</td>\n      <td>...</td>\n      <td>...</td>\n      <td>...</td>\n      <td>...</td>\n      <td>...</td>\n      <td>...</td>\n      <td>...</td>\n      <td>...</td>\n      <td>...</td>\n      <td>...</td>\n      <td>...</td>\n    </tr>\n    <tr>\n      <th rowspan=\"5\" valign=\"top\">TO</th>\n      <th>2015</th>\n      <td>107.48</td>\n      <td>94.35</td>\n      <td>97.73</td>\n      <td>98.73</td>\n      <td>100.00</td>\n      <td>98.70</td>\n      <td>93.92</td>\n      <td>97.22</td>\n      <td>83.28</td>\n      <td>94.52</td>\n      <td>...</td>\n      <td>52.17</td>\n      <td>98.76</td>\n      <td>83.28</td>\n      <td>15.24</td>\n      <td>16.55</td>\n      <td>96.74</td>\n      <td>231.40</td>\n      <td>92.37</td>\n      <td>0.00</td>\n      <td>0.00</td>\n    </tr>\n    <tr>\n      <th>2016</th>\n      <td>99.23</td>\n      <td>77.44</td>\n      <td>91.00</td>\n      <td>92.43</td>\n      <td>106.61</td>\n      <td>88.14</td>\n      <td>97.31</td>\n      <td>84.77</td>\n      <td>77.26</td>\n      <td>75.63</td>\n      <td>...</td>\n      <td>88.32</td>\n      <td>88.14</td>\n      <td>69.89</td>\n      <td>11.52</td>\n      <td>19.23</td>\n      <td>5.49</td>\n      <td>31.04</td>\n      <td>60.94</td>\n      <td>2.28</td>\n      <td>0.00</td>\n    </tr>\n    <tr>\n      <th>2017</th>\n      <td>104.75</td>\n      <td>91.32</td>\n      <td>89.09</td>\n      <td>90.01</td>\n      <td>85.77</td>\n      <td>85.76</td>\n      <td>93.17</td>\n      <td>86.05</td>\n      <td>73.28</td>\n      <td>81.50</td>\n      <td>...</td>\n      <td>60.91</td>\n      <td>0.00</td>\n      <td>75.43</td>\n      <td>34.82</td>\n      <td>53.33</td>\n      <td>0.00</td>\n      <td>0.00</td>\n      <td>77.95</td>\n      <td>72.35</td>\n      <td>66.53</td>\n    </tr>\n    <tr>\n      <th>2018</th>\n      <td>104.06</td>\n      <td>100.67</td>\n      <td>93.40</td>\n      <td>79.72</td>\n      <td>90.04</td>\n      <td>90.04</td>\n      <td>100.71</td>\n      <td>91.68</td>\n      <td>81.08</td>\n      <td>84.08</td>\n      <td>...</td>\n      <td>65.92</td>\n      <td>0.00</td>\n      <td>74.54</td>\n      <td>45.80</td>\n      <td>70.06</td>\n      <td>0.00</td>\n      <td>0.00</td>\n      <td>81.12</td>\n      <td>65.28</td>\n      <td>62.70</td>\n    </tr>\n    <tr>\n      <th>2019</th>\n      <td>112.41</td>\n      <td>111.88</td>\n      <td>88.73</td>\n      <td>93.52</td>\n      <td>76.38</td>\n      <td>76.38</td>\n      <td>94.02</td>\n      <td>88.17</td>\n      <td>76.47</td>\n      <td>87.09</td>\n      <td>...</td>\n      <td>81.35</td>\n      <td>0.00</td>\n      <td>55.40</td>\n      <td>51.01</td>\n      <td>75.97</td>\n      <td>0.00</td>\n      <td>0.00</td>\n      <td>82.12</td>\n      <td>53.13</td>\n      <td>65.91</td>\n    </tr>\n  </tbody>\n</table>\n<p>140 rows × 25 columns</p>\n</div>"
     },
     "metadata": {},
     "execution_count": 7
    }
   ],
   "source": [
    "result.groupby(['Estado', 'Ano']).sum()"
   ]
  },
  {
   "cell_type": "code",
   "execution_count": 8,
   "metadata": {},
   "outputs": [],
   "source": [
    "result.to_csv('cv_uf.csv', encoding='utf8', sep=',', decimal='.', index=False)"
   ]
  },
  {
   "cell_type": "code",
   "execution_count": 9,
   "metadata": {},
   "outputs": [],
   "source": [
    "# !jupyter nbconvert main.ipynb --to markdown --output README.md"
   ]
  },
  {
   "cell_type": "code",
   "execution_count": null,
   "metadata": {},
   "outputs": [],
   "source": []
  }
 ]
}